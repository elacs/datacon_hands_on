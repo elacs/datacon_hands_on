{
 "cells": [
  {
   "cell_type": "code",
   "execution_count": 1,
   "metadata": {},
   "outputs": [],
   "source": [
    "import random\n",
    "import string\n",
    "import numpy as np"
   ]
  },
  {
   "cell_type": "code",
   "execution_count": 2,
   "metadata": {},
   "outputs": [],
   "source": [
    "fp = open('sales_backup.csv')\n",
    "fc = fp.read()\n",
    "fp.close()"
   ]
  },
  {
   "cell_type": "code",
   "execution_count": 3,
   "metadata": {},
   "outputs": [
    {
     "data": {
      "text/plain": [
       "''"
      ]
     },
     "execution_count": 3,
     "metadata": {},
     "output_type": "execute_result"
    }
   ],
   "source": [
    "rows = fc.split('\\n')\n",
    "rows.pop(-1)"
   ]
  },
  {
   "cell_type": "code",
   "execution_count": 4,
   "metadata": {},
   "outputs": [],
   "source": [
    "def gen_rand_char ():\n",
    "\treturn random.choice(string.ascii_letters + string.digits)"
   ]
  },
  {
   "cell_type": "code",
   "execution_count": 5,
   "metadata": {},
   "outputs": [],
   "source": [
    "def gen_new_val (desired_len):\n",
    "\tret = gen_rand_char()\n",
    "\tp = 1 / desired_len\n",
    "\twhile True:\n",
    "\t\tdice = random.random()\n",
    "\t\tif dice < p:\n",
    "\t\t\treturn ret\n",
    "\t\tret += gen_rand_char()\n",
    "\t\n"
   ]
  },
  {
   "cell_type": "code",
   "execution_count": 6,
   "metadata": {},
   "outputs": [],
   "source": [
    "def fkup_row (row, fkup_probs):\n",
    "\tl = len(fkup_probs)\n",
    "\trow_pieces = row.split(',')\n",
    "\tret = []\n",
    "\tfor i in range(l):\n",
    "\t\tdice = random.random()\n",
    "\t\tif dice < fkup_probs[i]:\n",
    "\t\t\tret.append(gen_new_val(5))\n",
    "\t\telse:\n",
    "\t\t\tret.append(row_pieces[i])\n",
    "\treturn ','.join(ret)\n"
   ]
  },
  {
   "cell_type": "code",
   "execution_count": 7,
   "metadata": {},
   "outputs": [],
   "source": [
    "def identify_col_ind (rows, col):\n",
    "\tcols = rows[0]\n",
    "\tcols_split = cols.split(',')\n",
    "\tfor i in range(len(cols_split)):\n",
    "\t\tif cols_split[i] == col:\n",
    "\t\t\treturn i"
   ]
  },
  {
   "cell_type": "code",
   "execution_count": 8,
   "metadata": {},
   "outputs": [],
   "source": [
    "def row_remove_col_val (s, col_ind):\n",
    "\tx = s.split(',')\n",
    "\tx.pop(col_ind)\n",
    "\treturn ','.join(x)"
   ]
  },
  {
   "cell_type": "code",
   "execution_count": 9,
   "metadata": {},
   "outputs": [],
   "source": [
    "def remove_col (rows, col):\n",
    "\tcol_ind = identify_col_ind(rows, col)\n",
    "\tret = []\n",
    "\tfor row in rows:\n",
    "\t\tret.append(row_remove_col_val(row, col_ind))\n",
    "\treturn ret"
   ]
  },
  {
   "cell_type": "code",
   "execution_count": 10,
   "metadata": {},
   "outputs": [],
   "source": [
    "new_rows = remove_col(rows, 'OrderID')\n",
    "new_col_count = len(new_rows[0].split(','))\n",
    "new_fkup_probs = [(random.random() * 0.1) + 0.15 for _ in range(new_col_count)]"
   ]
  },
  {
   "cell_type": "code",
   "execution_count": 16,
   "metadata": {},
   "outputs": [],
   "source": [
    "new_new_rows = [new_rows[0]]\n",
    "for row in new_rows[1:]:\n",
    "\tnew_new_rows.append(fkup_row(row, new_fkup_probs))"
   ]
  },
  {
   "cell_type": "code",
   "execution_count": 20,
   "metadata": {},
   "outputs": [],
   "source": [
    "new_fc = '\\n'.join(new_new_rows)"
   ]
  },
  {
   "cell_type": "code",
   "execution_count": 21,
   "metadata": {},
   "outputs": [],
   "source": [
    "new_fp = open('sales.csv','w')\n",
    "new_fp.write(new_fc)\n",
    "new_fp.close()"
   ]
  }
 ],
 "metadata": {
  "kernelspec": {
   "display_name": "Python 3",
   "language": "python",
   "name": "python3"
  },
  "language_info": {
   "codemirror_mode": {
    "name": "ipython",
    "version": 3
   },
   "file_extension": ".py",
   "mimetype": "text/x-python",
   "name": "python",
   "nbconvert_exporter": "python",
   "pygments_lexer": "ipython3",
   "version": "3.10.11"
  }
 },
 "nbformat": 4,
 "nbformat_minor": 2
}
