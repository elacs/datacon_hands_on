{
 "cells": [
  {
   "cell_type": "markdown",
   "metadata": {},
   "source": [
    "# **DataCon 2024: Data Quality Checks**\n",
    "#### Learn how to run simple Completeness, Consistency and Accuracy Checks based on pre-defined validation rules on a sample Sales Dataset"
   ]
  },
  {
   "cell_type": "markdown",
   "metadata": {
    "id": "sNodrpm-a2Z6"
   },
   "source": [
    "## Import Pandas Library and Load Data from File"
   ]
  },
  {
   "cell_type": "code",
   "execution_count": null,
   "metadata": {
    "id": "hByom8aEes-T"
   },
   "outputs": [],
   "source": [
    "#Import external libraries\n",
    "%pip install pandas\n",
    "\n",
    "# imports the 'pandas' library for use in this script and assigns it the nickname 'pd'\n",
    "import pandas as pd"
   ]
  },
  {
   "cell_type": "code",
   "execution_count": null,
   "metadata": {
    "id": "2CRCXB2iGudV"
   },
   "outputs": [],
   "source": [
    "# loading the data from sales.csv into the DataFrame object\n",
    "df = pd.read_csv('sales.csv')\n",
    "df.index = df.index + 1"
   ]
  },
  {
   "cell_type": "markdown",
   "metadata": {
    "id": "F2k83sMuciqg"
   },
   "source": [
    "#### Some DataFrame functions built into `pandas`:"
   ]
  },
  {
   "cell_type": "code",
   "execution_count": null,
   "metadata": {
    "id": "MAryoTdcg4D1"
   },
   "outputs": [],
   "source": [
    "df.head() # returns first 5 rows of table"
   ]
  },
  {
   "cell_type": "code",
   "execution_count": null,
   "metadata": {
    "id": "SZMpC8ZF-Zi1"
   },
   "outputs": [],
   "source": [
    "l = len(df) # returns number of rows in table\n",
    "print(l)"
   ]
  },
  {
   "cell_type": "code",
   "execution_count": null,
   "metadata": {
    "id": "C_uJH_GO8GaV"
   },
   "outputs": [],
   "source": [
    "df['SalesID'] # get SalesID column"
   ]
  },
  {
   "cell_type": "code",
   "execution_count": null,
   "metadata": {
    "id": "vUk4aSfc41Pi"
   },
   "outputs": [],
   "source": [
    "df.loc[1] # get 1st row"
   ]
  },
  {
   "cell_type": "code",
   "execution_count": null,
   "metadata": {
    "id": "GNbTo-ipZ1sz"
   },
   "outputs": [],
   "source": [
    "df.loc[1]['SalesID'] # get 1st row of SalesID column"
   ]
  },
  {
   "cell_type": "code",
   "execution_count": null,
   "metadata": {
    "id": "4AFmnEDnsaSe"
   },
   "outputs": [],
   "source": [
    "column_names = list(df) # returns list of column names in table\n",
    "print(column_names)"
   ]
  },
  {
   "cell_type": "markdown",
   "metadata": {
    "id": "Cz7Qk3xecsfk"
   },
   "source": [
    "## Define and Run Data Quality Check Functions\n",
    "Each function checks the values in 1 row against 1 validation rule.<br>\n",
    "## Check for **Completeness** of dataset"
   ]
  },
  {
   "cell_type": "code",
   "execution_count": null,
   "metadata": {
    "id": "vKOyNJU_pAe5"
   },
   "outputs": [],
   "source": [
    "#Defining the Completeness check function\n",
    "def check_cannot_be_blank (df, column_name): # returns true if column_name contains no blanks\n",
    "  column_values = df[column_name]\n",
    "  for column_value in column_values:\n",
    "    if pd.isna(column_value): # pd.isna(column_value) returns False if column_value is blank\n",
    "      return False\n",
    "  return True"
   ]
  },
  {
   "cell_type": "code",
   "execution_count": null,
   "metadata": {
    "id": "dQ-rG-qXqkKR"
   },
   "outputs": [],
   "source": [
    "#Run the cannot be blank (i.e. completeness) check on a specific column (i.e. SalesID)\n",
    "print(check_cannot_be_blank(df, 'SalesID')) "
   ]
  },
  {
   "cell_type": "code",
   "execution_count": null,
   "metadata": {
    "id": "9RAhBLOuuFNZ"
   },
   "outputs": [],
   "source": [
    "#Use a `for` loop to run the **Completeness** check on all columns in the table\n",
    "for column_name in column_names:\n",
    "  print(column_name + ': ' + str(check_cannot_be_blank(df, column_name)))"
   ]
  },
  {
   "cell_type": "markdown",
   "metadata": {
    "id": "Xe8dUYh_djb5"
   },
   "source": [
    "## Check for **Consistency** of dataset \n",
    "### Start with SalesDate Column in dataset"
   ]
  },
  {
   "cell_type": "code",
   "execution_count": null,
   "metadata": {
    "id": "3s0X66nm9hq6"
   },
   "outputs": [],
   "source": [
    "#Define the Consistency check function\n",
    "\n",
    "from collections import defaultdict\n",
    "import math\n",
    "\n",
    "def is_intable (s): # returns true if the input value is an integer\n",
    "  try:\n",
    "    int(s)\n",
    "  except:\n",
    "    return False\n",
    "  return True\n",
    "\n",
    "def is_floatable (s): # returns true if the input value is a float\n",
    "  try:\n",
    "    float(s)\n",
    "  except:\n",
    "    return False\n",
    "  return True\n",
    "\n",
    "def is_alphabetical (s): # returns true if the input value is alphabetical (consists only of alphabets)\n",
    "  if not isinstance(s, str):\n",
    "    return False\n",
    "  for char in s: # for each character in the input string\n",
    "    if ord(char) not in range(97,123) and ord(char) not in range(65,91): # if the character is not in a-z or A-Z\n",
    "      return False # the value is not alphabetical\n",
    "  return True\n",
    "\n",
    "def check_data_format (df, column_name, character_type, pieces_max_lengths): # returns true if all values in column_name comply with data format specified\n",
    "  match character_type:\n",
    "    case 'N': # if character type is 'N'\n",
    "      if len(pieces_max_lengths) == 2: # data format is N(p,q)\n",
    "        for value in df[column_name]: # for each value in the column\n",
    "          val_str = str(value) # convert the value into a string\n",
    "          val_str_pieces = val_str.split('.') # split the string into before and after the decimal point\n",
    "          if len(val_str_pieces) != 2:\n",
    "            return False # the column fails the check if number of '.' is not exactly 1\n",
    "          # the value passes the check if both pieces are integers, and each piece is of length less than or equal to the maximum length specified\n",
    "          complies = is_intable(val_str_pieces[0]) and is_intable(val_str_pieces[1]) and len(val_str_pieces[0]) <= pieces_max_lengths[0] and len(val_str_pieces[1]) <= pieces_max_lengths[1]\n",
    "          if not complies:\n",
    "            return False\n",
    "        return True\n",
    "      elif len(pieces_max_lengths) == 1: # data format is N(p)\n",
    "        for value in df[column_name]:\n",
    "          complies = is_intable(value) and len(str(value)) <= pieces_max_lengths[0] # the value passes the check if it is an integer and is of length less than or equal to the maximum length specified\n",
    "          if not complies:\n",
    "            return False\n",
    "        return True\n",
    "    case 'A': # data format is A(p)\n",
    "      for value in df[column_name]:\n",
    "        complies = is_alphabetical(value) and len(value) <= pieces_max_lengths[0] # the value passes the check if it is alphabetical and is of length less than or equal to the maximum length specified\n",
    "        if not complies:\n",
    "          return False\n",
    "      return True\n",
    "    case 'X': # data format is X(p)\n",
    "      for value in df[column_name]:\n",
    "        val_str = str(value) # convert the value into a string\n",
    "        complies = len(val_str) <= pieces_max_lengths[0] # the value passes the check if it is of length less than or equal to the maximum length specified\n",
    "        if not complies:\n",
    "          return False\n",
    "      return True\n",
    "\n",
    "def check_date_format_yyyymmdd (df, column_name): # returns true if all values in column_name follow the date format yyyy-mm-dd\n",
    "  for value in df[column_name]:\n",
    "    value_split = value.split('-') # split each value into 3 parts to assess individually\n",
    "    if len(value_split) != 3:\n",
    "      return False # column fails the check if the number of parts is not exactly 3\n",
    "    try:\n",
    "      if len(value_split[2]) != 2 or int(value_split[2]) < 0 or int(value_split[2]) > 31: # reject if date is not 2 digits, or date < 0 or date > 31\n",
    "        return False\n",
    "      if len(value_split[2]) != 2 or int(value_split[1]) < 0 or int(value_split[1]) > 12: # reject if month is not 2 digits, or month < 0 or month > 12\n",
    "        return False\n",
    "      if len(value_split[0]) != 4 or not is_intable(value_split[0]): # reject if year is not int or year is not 4 digits\n",
    "        return False\n",
    "    except:\n",
    "      return False # reject if date, month or year is not an integer\n",
    "  return True"
   ]
  },
  {
   "cell_type": "code",
   "execution_count": null,
   "metadata": {},
   "outputs": [],
   "source": [
    "#Run the Consistency check on SalesDate column\n",
    "print('Check SalesDate column')\n",
    "print('====')\n",
    "print('Data format: ' + str(check_data_format(df, 'SalesDate', 'X', [10])))\n",
    "print('Date format: ' + str(check_date_format_yyyymmdd(df, 'SalesDate')))"
   ]
  },
  {
   "cell_type": "markdown",
   "metadata": {},
   "source": [
    "#### Modify the functions to investigate the rows that fail to comply with the **Consistency** rules:"
   ]
  },
  {
   "cell_type": "code",
   "execution_count": null,
   "metadata": {},
   "outputs": [],
   "source": [
    "def data_format_identify_non_complying_rows (df, column_name, character_type, pieces_max_lengths): # returns a list of row(s) that do not comply to data format rule\n",
    "  non_compliers = [] # keep a list of rows that do not comply to this rule\n",
    "  match character_type:\n",
    "    case 'N':\n",
    "      if len(pieces_max_lengths) == 2: # data format is N(p,q)\n",
    "        for index in range(1, l + 1):\n",
    "          val_str = str(df.loc[index][column_name]) # locate the row in  the specified column that does not comply with this rule\n",
    "          val_str_pieces = val_str.split('.')\n",
    "          complies = len(val_str_pieces) == 2 and is_intable(val_str_pieces[0]) and is_intable(val_str_pieces[1]) and len(val_str_pieces[0]) <= pieces_max_lengths[0] and len(val_str_pieces[1]) <= pieces_max_lengths[1]\n",
    "          if not complies:\n",
    "            non_compliers.append(df.loc[index]) # if the value does not comply then add the row to the list of non-compliers\n",
    "        return non_compliers\n",
    "      elif len(pieces_max_lengths) == 1: # data format is N(p)\n",
    "        for index in range(1, l + 1):\n",
    "          value = df.loc[index][column_name]\n",
    "          complies = is_intable(value) and len(str(value)) <= pieces_max_lengths[0]\n",
    "          if not complies:\n",
    "            non_compliers.append(df.loc[index]) # if the value does not comply then add the row to the list of non-compliers\n",
    "        return non_compliers\n",
    "    case 'A': # data format is A(p)\n",
    "      for index in range(1, l + 1):\n",
    "          value = df.loc[index][column_name]\n",
    "          complies = is_alphabetical(value) and len(value) <= pieces_max_lengths[0]\n",
    "          if not complies:\n",
    "            non_compliers.append(df.loc[index]) # if the value does not comply then add the row to the list of non-compliers\n",
    "      return non_compliers\n",
    "    case 'X': # data format is X(p)\n",
    "      for index in range(1, l + 1):\n",
    "          value = df.loc[index][column_name]\n",
    "          complies = len(value) <= pieces_max_lengths[0]\n",
    "          if not complies:\n",
    "            non_compliers.append(df.loc[index]) # if the value does not comply then add the row to the list of non-compliers\n",
    "      return non_compliers\n",
    "\n",
    "def date_format_identify_non_complying_rows (df, column_name): # returns a list of row(s) that do not comply to date format rule\n",
    "  non_compliers = [] # keep a list of rows that do not comply to this rule\n",
    "  for row_index in range(1, l + 1): # going through the df row by row this time\n",
    "    value_complies = True\n",
    "    value = df.loc[row_index][column_name] # locate the row in  the specified column that does not comply with this rule\n",
    "    value_split = value.split('-') # split each value into 3 parts to assess individually\n",
    "    if len(value_split) != 3:\n",
    "      value_complies = False # column fails the check if the number of parts is not exactly 3\n",
    "    try:\n",
    "      if int(value_split[2]) < 0 or int(value_split[2]) > 31: # reject if date is not int or date < 0 or date > 31\n",
    "        value_complies = False\n",
    "      if int(value_split[1]) < 0 or int(value_split[1]) > 12: # reject if month is not int or month < 0 or month > 12\n",
    "        value_complies = False\n",
    "      if len(value_split[0]) != 4 or not is_intable(value_split[0]): # reject if year is not int or year is not 4 digits\n",
    "        value_complies = False\n",
    "    except:\n",
    "      value_complies = False # also reject row if date, month or year is not an integer\n",
    "    if value_complies == False:\n",
    "        non_compliers.append(df.loc[row_index]) # add the row to the list of non-compliers\n",
    "  return non_compliers"
   ]
  },
  {
   "cell_type": "markdown",
   "metadata": {},
   "source": [
    "#### Define a helper function to print relevant rows neatly"
   ]
  },
  {
   "cell_type": "code",
   "execution_count": null,
   "metadata": {},
   "outputs": [],
   "source": [
    "def pprint_row_list (lis): # prints a list of rows in a nice format\n",
    "  for i in range(len(lis)): # for each item in the list\n",
    "    print('Item number ' + str(i + 1)) # print the item number (position in list)\n",
    "    print(lis[i]) # print the item\n",
    "    print('\\n') # print a line break"
   ]
  },
  {
   "cell_type": "markdown",
   "metadata": {},
   "source": [
    "#### Run the modified **Consistency** check function to display all rows with errors"
   ]
  },
  {
   "cell_type": "code",
   "execution_count": null,
   "metadata": {},
   "outputs": [],
   "source": [
    "print('SalesDate non-complying rows for data format :')\n",
    "pprint_row_list(data_format_identify_non_complying_rows(df, 'SalesDate', 'X', [10]))\n",
    "print('\\n')\n",
    "\n",
    "print('SalesDate non-complying rows for date format :')\n",
    "pprint_row_list(date_format_identify_non_complying_rows(df, 'SalesDate'))"
   ]
  },
  {
   "cell_type": "markdown",
   "metadata": {},
   "source": [
    "#### Modify the functions again to provide a percentage of all rows that do not comply with the specified **Consistency** rules:"
   ]
  },
  {
   "cell_type": "code",
   "execution_count": null,
   "metadata": {},
   "outputs": [],
   "source": [
    "# returns the percentage of row(s) that do not comply to data format rule\n",
    "def data_format_percentage_non_compliance (df, column_name, character_type, pieces_max_lengths):\n",
    "  return len(data_format_identify_non_complying_rows(df, column_name, character_type, pieces_max_lengths)) / l * 100\n",
    "\n",
    "# returns the percentage of row(s) that do not comply to date format rule\n",
    "def date_format_percentage_non_compliance (df, column_name):\n",
    "  return len(date_format_identify_non_complying_rows(df, column_name)) / l * 100"
   ]
  },
  {
   "cell_type": "markdown",
   "metadata": {},
   "source": [
    "#### Run the modified checks to find the percentage non-compliance of the SalesDate column for each of the **Consistency** checks:"
   ]
  },
  {
   "cell_type": "code",
   "execution_count": null,
   "metadata": {},
   "outputs": [],
   "source": [
    "print('Consistency checks:')\n",
    "print('======')\n",
    "print('SalesDate percentage non-compliance for data format rule: ' + str(data_format_percentage_non_compliance(df, 'SalesDate', 'X', [10])))\n",
    "print('SalesDate percentage non-compliance for date format rule: ' + str(date_format_percentage_non_compliance(df, 'SalesDate')))"
   ]
  },
  {
   "cell_type": "markdown",
   "metadata": {},
   "source": [
    "#### Calculate **Completeness**, **Consistency** and **Accuracy** score:"
   ]
  },
  {
   "cell_type": "code",
   "execution_count": null,
   "metadata": {},
   "outputs": [],
   "source": [
    "sales_date_completeness_score = 100 # determined in cannot_be_blank check earlier\n",
    "print('Accuracy score: ' + str(sales_date_completeness_score))\n",
    "\n",
    "sales_date_consistency_score = 100 - (data_format_percentage_non_compliance(df, 'SalesDate', 'X', [10]) + date_format_percentage_non_compliance(df, 'SalesDate')) / 2\n",
    "print('Consistency score: ' + str(sales_date_consistency_score))\n",
    "\n",
    "sales_date_accuracy_score = 100 # SalesDate column has no accuracy rules / checks\n",
    "print('Accuracy score: ' + str(sales_date_accuracy_score))"
   ]
  },
  {
   "cell_type": "markdown",
   "metadata": {
    "id": "qgY9lkSofNw5"
   },
   "source": [
    "### Find non-complying rows\n",
    "#### Define the rest of the **Consistency** validation check functions to also return a list of non-complying rows:"
   ]
  },
  {
   "cell_type": "code",
   "execution_count": null,
   "metadata": {
    "id": "CORtHJ79kVVl"
   },
   "outputs": [],
   "source": [
    "def unique_values_identify_non_complying_rows (df, column_name): # returns a list of row(s) that do not comply to unique values rule\n",
    "  non_compliers = [] # keep a list of rows that do not comply to this rule\n",
    "  value_occurence_list = defaultdict(list) # for each value that occurs in the column, keep a list of rows that have this value\n",
    "  for index in range(1,l + 1): # remember l is len(df)\n",
    "    value = df.loc[index][column_name] # locate the row in  the specified column that does not comply with this rule\n",
    "    value_occurence_list[value].append(index) # add the row to the list of rows with the same value in that column\n",
    "  for value in value_occurence_list.keys(): # for each value in the column,\n",
    "    if len(value_occurence_list[value]) > 1: # if there is more than 1 row in the list of rows with that value\n",
    "      non_compliers = non_compliers + [df.loc[index] for index in value_occurence_list[value]] # add all the rows in the list to the list of non-compliers\n",
    "  return non_compliers\n",
    "\n",
    "def data_type_identify_non_complying_rows (df, column_name, type_specified): # returns a list of rows that do not comply with data type rule (Integer, Float etc.)\n",
    "  non_compliers = [] # keep a list of rows that do not comply to this rule\n",
    "  for index in range(1, l + 1):\n",
    "    value = df.loc[index][column_name] # locate the row in  the specified column that does not comply with this rule\n",
    "    if type_specified == int:\n",
    "      if not is_intable(value):\n",
    "        non_compliers.append(df.loc[index])\n",
    "    elif type_specified == float:\n",
    "      if not is_floatable(value):\n",
    "        non_compliers.append(df.loc[index])\n",
    "  return non_compliers"
   ]
  },
  {
   "cell_type": "markdown",
   "metadata": {},
   "source": [
    "#### Define the rest of the **Accuracy** validation check functions to also return a list of non-complying rows:"
   ]
  },
  {
   "cell_type": "code",
   "execution_count": null,
   "metadata": {},
   "outputs": [],
   "source": [
    "def numerical_range_identify_non_complying_rows (df, column_name, lower_bound = - math.inf, upper_bound = math.inf): # returns a list of row(s) that do not comply to numerical range rule\n",
    "  non_compliers = [] # keep a list of rows that do not comply to this rule\n",
    "  for index in range(1, l + 1):\n",
    "    value = df.loc[index][column_name] # locate the row in  the specified column that does not comply with this rule\n",
    "    try:\n",
    "      if float(value) >= upper_bound or float(value) <= lower_bound: # if value in row is not within specified range\n",
    "        non_compliers.append(df.loc[index]) # add the row to the list of non-compliers\n",
    "    except:\n",
    "      non_compliers.append(df.loc[index]) # also add the row to the list of non-compliers if value is not numerical\n",
    "  return non_compliers"
   ]
  },
  {
   "cell_type": "markdown",
   "metadata": {},
   "source": [
    "#### Calculate percentage non-compliance per-column for the **Consistency** checks"
   ]
  },
  {
   "cell_type": "code",
   "execution_count": null,
   "metadata": {},
   "outputs": [],
   "source": [
    "# returns the percentage of row(s) that do not comply to unique values rule\n",
    "def unique_values_percentage_non_compliance (df, column_name):\n",
    "  return len(unique_values_identify_non_complying_rows(df, column_name)) / l * 100\n",
    "\n",
    "# returns the percentage of row(s) that do not comply to data type rule\n",
    "def data_type_percentage_non_compliance (df, column_name, type_specified):\n",
    "  return len(data_type_identify_non_complying_rows(df, column_name, type_specified)) / l * 100"
   ]
  },
  {
   "cell_type": "markdown",
   "metadata": {},
   "source": [
    "#### Calculate  percentage non-compliance per-column for the **Accuracy** checks"
   ]
  },
  {
   "cell_type": "code",
   "execution_count": null,
   "metadata": {},
   "outputs": [],
   "source": [
    "# returns the percentage of row(s) that do not comply to numerical range rule\n",
    "def numerical_range_percentage_non_compliance (df, column_name, lower_bound = - math.inf, upper_bound = math.inf):\n",
    "  return len(numerical_range_identify_non_complying_rows(df, column_name, lower_bound, upper_bound)) / l * 100"
   ]
  },
  {
   "cell_type": "markdown",
   "metadata": {},
   "source": [
    "### Move on to validation checks for SalesID column\n",
    "#### Identify rows in SalesID column that do not comply with **Consistency** and **Accuracy** rules"
   ]
  },
  {
   "cell_type": "code",
   "execution_count": null,
   "metadata": {},
   "outputs": [],
   "source": [
    "print('Consistency checks:')\n",
    "print('======')\n",
    "print('SalesID non-complying rows for data format:')\n",
    "pprint_row_list(data_format_identify_non_complying_rows(df, 'SalesID', 'N', [4]))\n",
    "print('\\n')\n",
    "\n",
    "print('SalesID non-complying rows for unique values rule:')\n",
    "pprint_row_list(unique_values_identify_non_complying_rows(df, 'SalesID'))\n",
    "print('\\n')\n",
    "\n",
    "print('SalesID non-complying rows for Integer type rule:')\n",
    "pprint_row_list(data_type_identify_non_complying_rows(df, 'SalesID', int))\n",
    "print('\\n')\n",
    "\n",
    "print('Accuracy checks:')\n",
    "print('======')\n",
    "print('SalesID non-complying rows for > 0 rule:')\n",
    "pprint_row_list(numerical_range_identify_non_complying_rows(df, 'SalesID', lower_bound = 0))"
   ]
  },
  {
   "cell_type": "markdown",
   "metadata": {},
   "source": [
    "#### Find percentage non-compliance for each rule:"
   ]
  },
  {
   "cell_type": "code",
   "execution_count": null,
   "metadata": {},
   "outputs": [],
   "source": [
    "print('Consistency checks:')\n",
    "print('======')\n",
    "print('SalesID percentage non-compliance for data format: ' + str(data_format_percentage_non_compliance(df, 'SalesID', 'N', [4])))\n",
    "\n",
    "print('SalesID percentage non-compliance for unique values rule: ' + str(unique_values_percentage_non_compliance(df, 'SalesID')))\n",
    "\n",
    "print('SalesID percentage non-compliance for Integer type rule: ' + str(data_type_percentage_non_compliance(df, 'SalesID', int)))\n",
    "print('\\n')\n",
    "\n",
    "print('Accuracy checks:')\n",
    "print('======')\n",
    "print('SalesID percentage non-compliance for > 0 rule: ' + str(numerical_range_percentage_non_compliance(df, 'SalesID', lower_bound = 0)))"
   ]
  },
  {
   "cell_type": "markdown",
   "metadata": {},
   "source": [
    "#### Calculate **Completeness**, **Consistency** and **Accuracy** score:"
   ]
  },
  {
   "cell_type": "code",
   "execution_count": null,
   "metadata": {},
   "outputs": [],
   "source": [
    "sales_id_completeness_score = 100 # determined in cannot_be_blank check earlier\n",
    "print('Accuracy score: ' + str(sales_id_completeness_score))\n",
    "\n",
    "sales_id_consistency_score = 100 - (data_format_percentage_non_compliance(df, 'SalesID', 'N', [4]) + unique_values_percentage_non_compliance(df, 'SalesID') + data_type_percentage_non_compliance(df, 'SalesID', int)) / 3\n",
    "print('Consistency score: ' + str(sales_id_consistency_score))\n",
    "\n",
    "sales_id_accuracy_score = 100 - numerical_range_percentage_non_compliance(df, 'SalesID', lower_bound = 0)\n",
    "print('Accuracy score: ' + str(sales_id_accuracy_score))"
   ]
  },
  {
   "cell_type": "markdown",
   "metadata": {},
   "source": [
    "### Move on to validation checks for CustomerID column\n",
    "#### Identify rows in CustomerID column that do not comply with **Consistency** and **Accuracy** rules"
   ]
  },
  {
   "cell_type": "code",
   "execution_count": null,
   "metadata": {},
   "outputs": [],
   "source": [
    "print('Consistency checks:')\n",
    "print('======')\n",
    "print('CustomerID non-complying rows for data format:')\n",
    "pprint_row_list(data_format_identify_non_complying_rows(df, 'CustomerID', 'N', [3]))\n",
    "print('\\n')\n",
    "\n",
    "print('CustomerID non-complying rows for Integer type rule:')\n",
    "pprint_row_list(data_type_identify_non_complying_rows(df, 'CustomerID', int))\n",
    "print('\\n')\n",
    "\n",
    "print('Accuracy checks:')\n",
    "print('======')\n",
    "print('CustomerID non-complying rows for > 0 rule:')\n",
    "pprint_row_list(numerical_range_identify_non_complying_rows(df, 'CustomerID', lower_bound = 0))"
   ]
  },
  {
   "cell_type": "markdown",
   "metadata": {},
   "source": [
    "#### Find percentage non-compliance for each rule:"
   ]
  },
  {
   "cell_type": "code",
   "execution_count": null,
   "metadata": {},
   "outputs": [],
   "source": [
    "print('Consistency checks:')\n",
    "print('======')\n",
    "print('CustomerID percentage non-compliance for data format: ' + str(data_format_percentage_non_compliance(df, 'CustomerID', 'N', [3])))\n",
    "\n",
    "print('CustomerID percentage non-compliance for Integer type rule: ' + str(data_type_percentage_non_compliance(df, 'CustomerID', int)))\n",
    "print('\\n')\n",
    "\n",
    "print('Accuracy checks:')\n",
    "print('======')\n",
    "print('CustomerID percentage non-compliance for > 0 rule: ')\n",
    "print(numerical_range_percentage_non_compliance(df, 'CustomerID', lower_bound = 0))"
   ]
  },
  {
   "cell_type": "markdown",
   "metadata": {},
   "source": [
    "#### Calculate **Completeness**, **Consistency** and **Accuracy** score:"
   ]
  },
  {
   "cell_type": "code",
   "execution_count": null,
   "metadata": {},
   "outputs": [],
   "source": [
    "customer_id_completeness_score = 100 # determined in cannot_be_blank check earlier\n",
    "print('Accuracy score: ' + str(customer_id_completeness_score))\n",
    "\n",
    "customer_id_consistency_score = 100 - (data_format_percentage_non_compliance(df, 'CustomerID', 'N', [3]) + data_type_percentage_non_compliance(df, 'CustomerID', int)) / 2\n",
    "print('Consistency score: ' + str(customer_id_consistency_score))\n",
    "\n",
    "customer_id_accuracy_score = 100 - numerical_range_percentage_non_compliance(df, 'CustomerID', lower_bound = 0)\n",
    "print('Accuracy score: ' + str(customer_id_accuracy_score))"
   ]
  },
  {
   "cell_type": "markdown",
   "metadata": {},
   "source": [
    "### Move on to validation checks for SalesPersonID column\n",
    "#### Identify rows in SalesPersonID column that do not comply with **Consistency** and **Accuracy** rules"
   ]
  },
  {
   "cell_type": "code",
   "execution_count": null,
   "metadata": {},
   "outputs": [],
   "source": [
    "print('Consistency checks:')\n",
    "print('======')\n",
    "print('SalesPersonID non-complying rows for data format:')\n",
    "pprint_row_list(data_format_identify_non_complying_rows(df, 'SalesPersonID', 'N', [1]))\n",
    "print('\\n')\n",
    "\n",
    "print('SalesPersonID non-complying rows for Integer type rule:')\n",
    "pprint_row_list(data_type_identify_non_complying_rows(df, 'SalesPersonID', int))\n",
    "print('\\n')\n",
    "\n",
    "print('Accuracy checks:')\n",
    "print('======')\n",
    "print('SalesPersonID non-complying rows for > 0 rule:')\n",
    "pprint_row_list(numerical_range_identify_non_complying_rows(df, 'SalesPersonID', lower_bound = 0))"
   ]
  },
  {
   "cell_type": "markdown",
   "metadata": {},
   "source": [
    "#### Find percentage non-compliance for each rule:"
   ]
  },
  {
   "cell_type": "code",
   "execution_count": null,
   "metadata": {},
   "outputs": [],
   "source": [
    "print('Consistency checks:')\n",
    "print('======')\n",
    "print('SalesPersonID percentage non-compliance for data format: ' + str(data_format_percentage_non_compliance(df, 'SalesPersonID', 'N', [1])))\n",
    "\n",
    "print('SalesPersonID percentage non-compliance for Integer type rule: ' + str(data_type_percentage_non_compliance(df, 'SalesPersonID', int)))\n",
    "print('\\n')\n",
    "\n",
    "print('Accuracy checks:')\n",
    "print('======')\n",
    "print('SalesPersonID percentage non-compliance for > 0 rule: ' + str(numerical_range_percentage_non_compliance(df, 'SalesPersonID', lower_bound = 0)))"
   ]
  },
  {
   "cell_type": "markdown",
   "metadata": {},
   "source": [
    "#### Calculate **Completeness**, **Consistency** and **Accuracy** score:"
   ]
  },
  {
   "cell_type": "code",
   "execution_count": null,
   "metadata": {},
   "outputs": [],
   "source": [
    "salesperson_id_completeness_score = 100 # determined in cannot_be_blank check earlier\n",
    "print('Accuracy score: ' + str(salesperson_id_completeness_score))\n",
    "\n",
    "salesperson_id_consistency_score = 100 - (data_format_percentage_non_compliance(df, 'SalesPersonID', 'N', [1]) + data_type_percentage_non_compliance(df, 'SalesPersonID', int)) / 2\n",
    "print('Consistency score: ' + str(salesperson_id_consistency_score))\n",
    "\n",
    "salesperson_id_accuracy_score = 100 - numerical_range_percentage_non_compliance(df, 'SalesPersonID', lower_bound = 0)\n",
    "print('Accuracy score: ' + str(salesperson_id_accuracy_score))"
   ]
  },
  {
   "cell_type": "markdown",
   "metadata": {},
   "source": [
    "# Your turn!\n",
    "Fill in the code blocks to identify non-complying rows, calculate percentage non-compliance, and calculate **Consistency** and **Accuracy** scores for the ProductID and Quantity columns"
   ]
  },
  {
   "cell_type": "markdown",
   "metadata": {},
   "source": [
    "## Check ProductID column\n",
    "Identify rows in ProductID column that do not comply with **Consistency** and **Accuracy** rules:"
   ]
  },
  {
   "cell_type": "markdown",
   "metadata": {},
   "source": [
    "<div class=\"alert alert-block alert-info\">\n",
    "<b>↓↓↓ TO DO: Run the validation check functions to find non-complying rows ↓↓↓</b>\n",
    "</div>"
   ]
  },
  {
   "cell_type": "code",
   "execution_count": null,
   "metadata": {},
   "outputs": [],
   "source": [
    "# fill in the code!"
   ]
  },
  {
   "cell_type": "markdown",
   "metadata": {},
   "source": [
    "Find percentage non-compliance for each rule:"
   ]
  },
  {
   "cell_type": "markdown",
   "metadata": {},
   "source": [
    "<div class=\"alert alert-block alert-info\">\n",
    "<b>↓↓↓ TO DO: Run the validation check functions to find percentage non-compliance ↓↓↓</b>\n",
    "</div>"
   ]
  },
  {
   "cell_type": "code",
   "execution_count": null,
   "metadata": {},
   "outputs": [],
   "source": [
    "# fill in the code!"
   ]
  },
  {
   "cell_type": "markdown",
   "metadata": {},
   "source": [
    "Calculate **Completeness**, **Consistency** and **Accuracy** score:"
   ]
  },
  {
   "cell_type": "markdown",
   "metadata": {},
   "source": [
    "<div class=\"alert alert-block alert-info\">\n",
    "<b>↓↓↓ TO DO: Calculate scores for ProductID column ↓↓↓</b>\n",
    "</div>"
   ]
  },
  {
   "cell_type": "code",
   "execution_count": null,
   "metadata": {},
   "outputs": [],
   "source": [
    "# fill in the code!\n",
    "product_id_completeness_score = 100 # determined in cannot_be_blank check earlier\n",
    "product_id_consistency_score = _____\n",
    "product_id_accuracy_score = _____"
   ]
  },
  {
   "cell_type": "markdown",
   "metadata": {},
   "source": [
    "Identify rows in Quantity column that do not comply with **Consistency** and **Accuracy** rules:"
   ]
  },
  {
   "cell_type": "markdown",
   "metadata": {},
   "source": [
    "<div class=\"alert alert-block alert-info\">\n",
    "<b>↓↓↓ TO DO: Run the validation check functions to find non-complying rows ↓↓↓</b>\n",
    "</div>"
   ]
  },
  {
   "cell_type": "code",
   "execution_count": null,
   "metadata": {},
   "outputs": [],
   "source": [
    "# fill in the code!"
   ]
  },
  {
   "cell_type": "markdown",
   "metadata": {},
   "source": [
    "Find percentage non-compliance for each rule:"
   ]
  },
  {
   "cell_type": "markdown",
   "metadata": {},
   "source": [
    "<div class=\"alert alert-block alert-info\">\n",
    "<b>↓↓↓ TO DO: Run the validation check functions to find percentage non-compliance ↓↓↓</b>\n",
    "</div>"
   ]
  },
  {
   "cell_type": "code",
   "execution_count": null,
   "metadata": {},
   "outputs": [],
   "source": [
    "# fill in the code!"
   ]
  },
  {
   "cell_type": "markdown",
   "metadata": {},
   "source": [
    "Calculate **Completeness**, **Consistency** and **Accuracy** score:"
   ]
  },
  {
   "cell_type": "markdown",
   "metadata": {},
   "source": [
    "<div class=\"alert alert-block alert-info\">\n",
    "<b>↓↓↓ TO DO: Calculate scores for Quantity column ↓↓↓</b>\n",
    "</div>"
   ]
  },
  {
   "cell_type": "code",
   "execution_count": null,
   "metadata": {},
   "outputs": [],
   "source": [
    "# fill in the code!\n",
    "quantity_completeness_score = 100 # determined in cannot_be_blank check earlier\n",
    "quantity_consistency_score = _____\n",
    "quantity_accuracy_score = _____"
   ]
  },
  {
   "cell_type": "markdown",
   "metadata": {},
   "source": [
    "### Move on to validation checks for Sales column\n",
    "#### Identify rows in Sales column that do not comply with **Consistency** and **Accuracy** rules"
   ]
  },
  {
   "cell_type": "code",
   "execution_count": null,
   "metadata": {},
   "outputs": [],
   "source": [
    "print('Consistency checks:')\n",
    "print('======')\n",
    "print('Sales non-complying rows for data format:')\n",
    "pprint_row_list(data_format_identify_non_complying_rows(df, 'Sales', 'N', [10,2]))\n",
    "print('\\n')\n",
    "\n",
    "print('Sales non-complying rows for Float type rule:')\n",
    "pprint_row_list(data_type_identify_non_complying_rows(df, 'Sales', float))\n",
    "print('\\n')\n",
    "\n",
    "print('Accuracy checks:')\n",
    "print('======')\n",
    "print('Sales non-complying rows for > 0 rule:')\n",
    "pprint_row_list(numerical_range_identify_non_complying_rows(df, 'Sales', lower_bound = 0))"
   ]
  },
  {
   "cell_type": "markdown",
   "metadata": {},
   "source": [
    "#### Find percentage non-compliance for each rule:"
   ]
  },
  {
   "cell_type": "code",
   "execution_count": null,
   "metadata": {},
   "outputs": [],
   "source": [
    "print('Consistency checks:')\n",
    "print('======')\n",
    "print('Sales percentage non-compliance for data format: ' + str(data_format_percentage_non_compliance(df, 'Sales', 'N', [10,2])))\n",
    "\n",
    "print('Sales percentage non-compliance for Float type rule: ' + str(data_type_percentage_non_compliance(df, 'Sales', float)))\n",
    "print('\\n')\n",
    "\n",
    "print('Accuracy checks:')\n",
    "print('======')\n",
    "print('Sales percentage non-compliance for >= 0 rule: ')\n",
    "print(numerical_range_percentage_non_compliance(df, 'Sales', lower_bound = -0.001))"
   ]
  },
  {
   "cell_type": "markdown",
   "metadata": {},
   "source": [
    "#### Calculate **Completeness**, **Consistency** and **Accuracy** score:"
   ]
  },
  {
   "cell_type": "code",
   "execution_count": null,
   "metadata": {},
   "outputs": [],
   "source": [
    "sales_completeness_score = 100 # determined in cannot_be_blank check earlier\n",
    "print('Accuracy score: ' + str(sales_completeness_score))\n",
    "\n",
    "sales_consistency_score = 100 - (data_format_percentage_non_compliance(df, 'Sales', 'N', [10,2]) + data_type_percentage_non_compliance(df, 'Sales', float)) / 2\n",
    "print('Consistency score: ' + str(sales_consistency_score))\n",
    "\n",
    "sales_accuracy_score = 100 - numerical_range_percentage_non_compliance(df, 'Sales', lower_bound = -0.001)\n",
    "print('Accuracy score: ' + str(sales_accuracy_score))"
   ]
  },
  {
   "cell_type": "markdown",
   "metadata": {},
   "source": [
    "### Move on to validation checks for StoreID column\n",
    "#### Identify rows in StoreID column that do not comply with **Consistency** and **Accuracy** rules"
   ]
  },
  {
   "cell_type": "code",
   "execution_count": null,
   "metadata": {},
   "outputs": [],
   "source": [
    "print('Consistency checks:')\n",
    "print('======')\n",
    "print('StoreID non-complying rows for data format:')\n",
    "pprint_row_list(data_format_identify_non_complying_rows(df, 'StoreID', 'N', [1]))"
   ]
  },
  {
   "cell_type": "markdown",
   "metadata": {},
   "source": [
    "#### Find percentage non-compliance for data format rule:"
   ]
  },
  {
   "cell_type": "code",
   "execution_count": null,
   "metadata": {},
   "outputs": [],
   "source": [
    "print('Consistency checks:')\n",
    "print('======')\n",
    "print('StoreID percentage non-compliance for data format: ' + str(data_format_percentage_non_compliance(df, 'StoreID', 'N', [1])))"
   ]
  },
  {
   "cell_type": "markdown",
   "metadata": {
    "id": "OSlJoWuVfz3w"
   },
   "source": [
    "# Using ChatGPT to generate validation check function - **Accuracy**\n",
    "### Check that all values in StoreID Column contain only the permitted values (1 - 9)"
   ]
  },
  {
   "cell_type": "code",
   "execution_count": null,
   "metadata": {
    "id": "5Sjic_v_KeXh"
   },
   "outputs": [],
   "source": [
    "def check_store_id_quality(df):\n",
    "    # Define the permitted values\n",
    "    permitted_values = {'1', '2', '3', '4', '5', '6', '7', '8', '9'}\n",
    "\n",
    "    # Filter rows where 'StoreID' is not in the permitted values\n",
    "    invalid_rows = df[~df['StoreID'].isin(permitted_values)]\n",
    "\n",
    "    # Return the invalid rows as a list of dictionaries\n",
    "    return invalid_rows.to_dict(orient='records')"
   ]
  },
  {
   "cell_type": "markdown",
   "metadata": {},
   "source": [
    "#### Run the check defined by ChatGPT to identify rows in StoreID column that do not comply with permitted values rule"
   ]
  },
  {
   "cell_type": "code",
   "execution_count": null,
   "metadata": {
    "id": "jXv-4O5hKgLA"
   },
   "outputs": [],
   "source": [
    "print('Consistency checks:')\n",
    "print('======')\n",
    "print('StoreID non-complying rows for permitted values:')\n",
    "print(check_store_id_quality(df))"
   ]
  },
  {
   "cell_type": "markdown",
   "metadata": {},
   "source": [
    "#### Find percentage non-compliance for permitted values rule:"
   ]
  },
  {
   "cell_type": "code",
   "execution_count": null,
   "metadata": {},
   "outputs": [],
   "source": [
    "store_id_permitted_values_percentage_non_compliance = len(check_store_id_quality(df)) / l * 100"
   ]
  },
  {
   "cell_type": "code",
   "execution_count": null,
   "metadata": {},
   "outputs": [],
   "source": [
    "print('Accuracy checks:')\n",
    "print('======')\n",
    "print('StoreID percentage non-compliance for permitted values: ' + str(store_id_permitted_values_percentage_non_compliance))"
   ]
  },
  {
   "cell_type": "markdown",
   "metadata": {},
   "source": [
    "#### Calculate **Completeness**, **Consistency** and **Accuracy** score:"
   ]
  },
  {
   "cell_type": "code",
   "execution_count": null,
   "metadata": {},
   "outputs": [],
   "source": [
    "store_id_completeness_score = 100 # determined in cannot_be_blank check earlier\n",
    "print('Accuracy score: ' + str(store_id_completeness_score))\n",
    "\n",
    "store_id_consistency_score = 100 - data_format_percentage_non_compliance(df, 'StoreID', 'N', [1])\n",
    "print('Consistency score: ' + str(store_id_consistency_score))\n",
    "\n",
    "store_id_accuracy_score = 100 - store_id_permitted_values_percentage_non_compliance\n",
    "print('Accuracy score: ' + str(store_id_accuracy_score))"
   ]
  },
  {
   "cell_type": "markdown",
   "metadata": {},
   "source": [
    "### Move on to OrderStatus column\n",
    "#### Identify rows in OrderStatus column that do not comply with data format rule:"
   ]
  },
  {
   "cell_type": "code",
   "execution_count": null,
   "metadata": {},
   "outputs": [],
   "source": [
    "print('Consistency checks:')\n",
    "print('======')\n",
    "print('OrderStatus non-complying rows for data format:')\n",
    "pprint_row_list(data_format_identify_non_complying_rows(df, 'OrderStatus', 'A', [10]))"
   ]
  },
  {
   "cell_type": "markdown",
   "metadata": {},
   "source": [
    "#### Find percentage non-compliance for data format rule:"
   ]
  },
  {
   "cell_type": "code",
   "execution_count": null,
   "metadata": {},
   "outputs": [],
   "source": [
    "print('Consistency checks:')\n",
    "print('======')\n",
    "print('OrderStatus percentage non-compliance for data format: ' + str(data_format_percentage_non_compliance(df, 'OrderStatus', 'A', [10])))"
   ]
  },
  {
   "cell_type": "markdown",
   "metadata": {},
   "source": [
    "# Using ChatGPT to generate validation check function - **Accuracy**\n",
    "### check that all values in the  'OrderStatus' column contain only the permitted values (Complete, Pending, Incomplete)"
   ]
  },
  {
   "cell_type": "markdown",
   "metadata": {},
   "source": [
    "<div class=\"alert alert-block alert-info\">\n",
    "<b>↓↓↓ TO DO: Get ChatGPT to write the Accuracy check function ↓↓↓</b>\n",
    "</div>"
   ]
  },
  {
   "cell_type": "code",
   "execution_count": null,
   "metadata": {},
   "outputs": [],
   "source": [
    "# fill in the code using ChatGPT!"
   ]
  },
  {
   "cell_type": "markdown",
   "metadata": {},
   "source": [
    "#### Run the check defined by ChatGPT to identify rows in OrderStatus column that do not comply with permitted values rule"
   ]
  },
  {
   "cell_type": "markdown",
   "metadata": {},
   "source": [
    "<div class=\"alert alert-block alert-info\">\n",
    "<b>↓↓↓ TO DO: Run the check and print the results ↓↓↓</b>\n",
    "</div>"
   ]
  },
  {
   "cell_type": "code",
   "execution_count": null,
   "metadata": {},
   "outputs": [],
   "source": [
    "print('Consistency checks:')\n",
    "print('======')\n",
    "print('OrderStatus non-complying rows for permitted values:')\n",
    "order_status_permitted_values_non_compliers = _____ # call the function defined by ChatGPT\n",
    "print(order_status_permitted_values_non_compliers)"
   ]
  },
  {
   "cell_type": "markdown",
   "metadata": {},
   "source": [
    "#### Find percentage non-compliance for permitted values rule:"
   ]
  },
  {
   "cell_type": "code",
   "execution_count": null,
   "metadata": {},
   "outputs": [],
   "source": [
    "order_status_permitted_values_percentage_non_compliance = len(order_status_permitted_values_non_compliers) / l * 100"
   ]
  },
  {
   "cell_type": "code",
   "execution_count": null,
   "metadata": {},
   "outputs": [],
   "source": [
    "print('Accuracy checks:')\n",
    "print('======')\n",
    "print('OrderStatus percentage non-compliance for permitted values: ' + str(order_status_permitted_values_percentage_non_compliance))"
   ]
  },
  {
   "cell_type": "markdown",
   "metadata": {},
   "source": [
    "#### Calculate **Completeness**, **Consistency** and **Accuracy** score:"
   ]
  },
  {
   "cell_type": "code",
   "execution_count": null,
   "metadata": {},
   "outputs": [],
   "source": [
    "order_status_completeness_score = 100 # determined in cannot_be_blank check earlier\n",
    "print('Accuracy score: ' + str(order_status_completeness_score))\n",
    "\n",
    "order_status_consistency_score = 100 - data_format_percentage_non_compliance(df, 'OrderStatus', 'A', [10])\n",
    "print('Consistency score: ' + str(order_status_consistency_score))\n",
    "\n",
    "order_status_accuracy_score = 100 - order_status_permitted_values_percentage_non_compliance\n",
    "print('Accuracy score: ' + str(order_status_accuracy_score))"
   ]
  },
  {
   "cell_type": "markdown",
   "metadata": {},
   "source": [
    "# Reporting of Overall Dataset quality\n",
    "## Calculate and present overall **Completeness**, **Consistency**, **Accuracy** scores of dataset"
   ]
  },
  {
   "cell_type": "markdown",
   "metadata": {},
   "source": [
    "**Completeness** score of entire dataset = average of **Completeness** scores for each column"
   ]
  },
  {
   "cell_type": "code",
   "execution_count": null,
   "metadata": {},
   "outputs": [],
   "source": [
    "# remember earlier we found that every column passed the Completeness check - 100% completeness!\n",
    "dataset_completeness_score = 100"
   ]
  },
  {
   "cell_type": "markdown",
   "metadata": {},
   "source": [
    "**Consistency** score of entire dataset = average of **Consistency** scores for each column"
   ]
  },
  {
   "cell_type": "code",
   "execution_count": null,
   "metadata": {},
   "outputs": [],
   "source": [
    "dataset_consistency_score = (sales_date_consistency_score\n",
    "+ sales_id_consistency_score\n",
    "+ customer_id_consistency_score\n",
    "+ salesperson_id_consistency_score\n",
    "+ product_id_consistency_score\n",
    "+ quantity_consistency_score\n",
    "+ sales_consistency_score\n",
    "+ store_id_consistency_score\n",
    "+ order_status_consistency_score) / 9"
   ]
  },
  {
   "cell_type": "markdown",
   "metadata": {},
   "source": [
    "**Accuracy** score of entire dataset = average of **Accuracy** scores for each column"
   ]
  },
  {
   "cell_type": "code",
   "execution_count": null,
   "metadata": {},
   "outputs": [],
   "source": [
    "dataset_accuracy_score = (sales_date_accuracy_score\n",
    "+ sales_id_accuracy_score\n",
    "+ customer_id_accuracy_score\n",
    "+ salesperson_id_accuracy_score\n",
    "+ product_id_accuracy_score\n",
    "+ quantity_accuracy_score\n",
    "+ sales_accuracy_score\n",
    "+ store_id_accuracy_score\n",
    "+ order_status_accuracy_score) / 9"
   ]
  },
  {
   "cell_type": "markdown",
   "metadata": {},
   "source": [
    "Present the results in a table:"
   ]
  },
  {
   "cell_type": "code",
   "execution_count": null,
   "metadata": {},
   "outputs": [],
   "source": [
    "completeness_target = 100\n",
    "consistency_target = 100\n",
    "accuracy_target = 90"
   ]
  },
  {
   "cell_type": "code",
   "execution_count": null,
   "metadata": {},
   "outputs": [],
   "source": [
    "def get_pass_fail (performance, target):\n",
    "\tif performance >= target:\n",
    "\t\treturn 'Pass'\n",
    "\treturn 'Fail'"
   ]
  },
  {
   "cell_type": "code",
   "execution_count": null,
   "metadata": {},
   "outputs": [],
   "source": [
    "results_header_row = '| ' + 'METRIC'.ljust(15) + ' | ' + 'PERFORMANCE'.ljust(15) + ' | ' + 'TARGET'.ljust(15) + ' | ' + 'PASS / FAIL'.ljust(15) + ' |'\n",
    "\n",
    "results_completeness_row = '| ' + 'Completeness'.ljust(15) + ' | ' + str(dataset_completeness_score)[:6].ljust(15) + ' | ' + str(completeness_target).ljust(15) + ' | ' + get_pass_fail(dataset_completeness_score, completeness_target).ljust(15) + ' |'\n",
    "\n",
    "results_consistency_row = '| ' + 'Consistency'.ljust(15) + ' | ' + str(dataset_consistency_score)[:6].ljust(15) + ' | ' + str(consistency_target).ljust(15) + ' | ' + get_pass_fail(dataset_consistency_score, consistency_target).ljust(15) + ' |'\n",
    "\n",
    "results_accuracy_row = '| ' + 'Accuracy'.ljust(15) + ' | ' + str(dataset_accuracy_score)[:6].ljust(15) + ' | ' + str(accuracy_target).ljust(15) + ' | ' + get_pass_fail(dataset_accuracy_score, accuracy_target).ljust(15) + ' |'\n",
    "\n",
    "results_divider = '+ ' + ''.ljust(15, '-') + ' + ' + ''.ljust(15, '-') + ' + ' + ''.ljust(15, '-') + ' + ' + ''.ljust(15, '-') + ' +'\n",
    "results_header_divider = '+ ' + ''.ljust(15, '=') + ' + ' + ''.ljust(15, '=') + ' + ' + ''.ljust(15, '=') + ' + ' + ''.ljust(15, '=') + ' +'"
   ]
  },
  {
   "cell_type": "code",
   "execution_count": null,
   "metadata": {},
   "outputs": [],
   "source": [
    "print(results_divider)\n",
    "print(results_header_row)\n",
    "print(results_header_divider)\n",
    "print(results_completeness_row)\n",
    "print(results_divider)\n",
    "print(results_consistency_row)\n",
    "print(results_divider)\n",
    "print(results_accuracy_row)\n",
    "print(results_divider)"
   ]
  }
 ],
 "metadata": {
  "colab": {
   "provenance": []
  },
  "kernelspec": {
   "display_name": "Python 3 (ipykernel)",
   "language": "python",
   "name": "python3"
  },
  "language_info": {
   "codemirror_mode": {
    "name": "ipython",
    "version": 3
   },
   "file_extension": ".py",
   "mimetype": "text/x-python",
   "name": "python",
   "nbconvert_exporter": "python",
   "pygments_lexer": "ipython3",
   "version": "3.10.11"
  }
 },
 "nbformat": 4,
 "nbformat_minor": 1
}
